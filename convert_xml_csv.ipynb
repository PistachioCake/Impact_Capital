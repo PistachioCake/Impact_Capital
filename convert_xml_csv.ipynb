{
 "cells": [
  {
   "cell_type": "markdown",
   "metadata": {},
   "source": [
    "# Converting XML files to CSV "
   ]
  },
  {
   "cell_type": "code",
   "execution_count": null,
   "metadata": {},
   "outputs": [],
   "source": [
    "import pandas as pd\n",
    "from xml.etree import cElementTree as ElementTree\n",
    "import xml.etree.ElementTree as et\n",
    "from tqdm import tqdm\n",
    "import os"
   ]
  },
  {
   "cell_type": "markdown",
   "metadata": {},
   "source": [
    "# Use IRS 2017 index https://s3.amazonaws.com/irs-form-990/index_2017.csv to subset data"
   ]
  },
  {
   "cell_type": "code",
   "execution_count": null,
   "metadata": {},
   "outputs": [],
   "source": [
    "#990 2017 index from the IRS\n",
    "index = pd.read_csv('data/index_2017.csv')\n",
    "\n",
    "#Index cleaning\n",
    "index['filename'] = index['OBJECT_ID'].astype(str) + '_public.xml'\n",
    "print(index.info())\n",
    "index"
   ]
  },
  {
   "cell_type": "code",
   "execution_count": null,
   "metadata": {},
   "outputs": [],
   "source": [
    "#Save just a list of the file names \n",
    "filenames = index[['filename']]\n",
    "\n",
    "#for some reason when I try to save it as a .txt file it changes some digits to zero! So what I did was save it as a csv, copy and paste the column into notepad and save\n",
    "filenames.to_csv(r'data/filenames_990_2017.csv', header=None, index=None, sep=' ', mode='a')\n",
    "\n",
    "#At this point I run the batch file to move all of the files to a 2017 only file. \n"
   ]
  },
  {
   "cell_type": "markdown",
   "metadata": {},
   "source": [
    "# Here is the batch file I created to move 2017 files to its own folder, next time try without 'type"
   ]
  },
  {
   "cell_type": "raw",
   "metadata": {},
   "source": [
    "set Source=C:\\Users\\tenis\\OneDrive\\Desktop\\Data_Projects\\Impact_Capital\\data\\IRS990_2017_2016\n",
    "set Target=C:\\Users\\tenis\\OneDrive\\Desktop\\Data_Projects\\Impact_Capital\\data\\IRS990_2017\n",
    "set FileList=C:\\Users\\tenis\\OneDrive\\Desktop\\Data_Projects\\Impact_Capital\\data\\filenames_990_2017.txt\n",
    "echo.\n",
    "\n",
    "if not exist \"%Source%\" echo Source folder \"%Source%\" not found & goto Exit\n",
    "if not exist \"%FileList%\" echo File list \"%FileList%\" not found & goto Exit \n",
    "if not exist \"%Target%\" md \"%Target%\"\n",
    "\n",
    "for /F \"delims=\" %%a in ('type \"%FileList%\"') do copy \"%Source%\\%%a\" \"%Target%\"\n",
    "\n",
    ":Exit\n",
    "echo.\n",
    "echo press the Space Bar to close this window.\n",
    "pause > nul"
   ]
  },
  {
   "cell_type": "markdown",
   "metadata": {},
   "source": [
    "# Fields to pull from IRS 990\n",
    "\n"
   ]
  },
  {
   "cell_type": "markdown",
   "metadata": {},
   "source": [
    "# Function to convert XML files to Python Dictionaries "
   ]
  },
  {
   "cell_type": "code",
   "execution_count": null,
   "metadata": {},
   "outputs": [],
   "source": [
    "class XmlListConfig(list):\n",
    "    def __init__(self, aList):\n",
    "        for element in aList:\n",
    "            if element:\n",
    "                # treat like dict\n",
    "                if len(element) == 1 or element[0].tag != element[1].tag:\n",
    "                    self.append(XmlDictConfig(element))\n",
    "                # treat like list\n",
    "                elif element[0].tag == element[1].tag:\n",
    "                    self.append(XmlListConfig(element))\n",
    "            elif element.text:\n",
    "                text = element.text.strip()\n",
    "                if text:\n",
    "                    self.append(text)\n",
    "\n",
    "\n",
    "class XmlDictConfig(dict):\n",
    "    '''\n",
    "    Example usage:\n",
    "\n",
    "    >>> tree = ElementTree.parse('your_file.xml')\n",
    "    >>> root = tree.getroot()\n",
    "    >>> xmldict = XmlDictConfig(root)\n",
    "\n",
    "    Or, if you want to use an XML string:\n",
    "\n",
    "    >>> root = ElementTree.XML(xml_string)\n",
    "    >>> xmldict = XmlDictConfig(root)\n",
    "\n",
    "    And then use xmldict for what it is... a dict.\n",
    "    '''\n",
    "    def __init__(self, parent_element):\n",
    "        if parent_element.items():\n",
    "            self.update(dict(parent_element.items()))\n",
    "        for element in parent_element:\n",
    "            if element:\n",
    "                # treat like dict - we assume that if the first two tags\n",
    "                # in a series are different, then they are all different.\n",
    "                if len(element) == 1 or element[0].tag != element[1].tag:\n",
    "                    aDict = XmlDictConfig(element)\n",
    "                # treat like list - we assume that if the first two tags\n",
    "                # in a series are the same, then the rest are the same.\n",
    "                else:\n",
    "                    # here, we put the list in dictionary; the key is the\n",
    "                    # tag name the list elements all share in common, and\n",
    "                    # the value is the list itself \n",
    "                    aDict = {element[0].tag: XmlListConfig(element)}\n",
    "                # if the tag has attributes, add those to the dict\n",
    "                if element.items():\n",
    "                    aDict.update(dict(element.items()))\n",
    "                self.update({element.tag: aDict})\n",
    "            # this assumes that if you've got an attribute in a tag,\n",
    "            # you won't be having any text. This may or may not be a \n",
    "            # good idea -- time will tell. It works for the way we are\n",
    "            # currently doing XML configuration files...\n",
    "            elif element.items():\n",
    "                self.update({element.tag: dict(element.items())})\n",
    "            # finally, if there are no child tags and no attributes, extract\n",
    "            # the text\n",
    "            else:\n",
    "                self.update({element.tag: element.text})\n",
    "\n",
    "def get_field(xmldict, path=None, default=None):\n",
    "    if path is None: return xmldict\n",
    "    try:\n",
    "        for p in path:\n",
    "            # Ugly namespaces are ugly, let's deal with them here\n",
    "            xmldict = xmldict['{http://www.irs.gov/efile}' + p]\n",
    "        return xmldict\n",
    "    except KeyError:\n",
    "        # If this key does not exist in the dictionary, \n",
    "        return default\n",
    "        # Note: it may be faster to check ```if p not in dict``` rather\n",
    "        # than set up this try/except block. I think it depends on how\n",
    "        # often this fails - the more it fails, the worse the try/except does."
   ]
  },
  {
   "cell_type": "markdown",
   "metadata": {},
   "source": [
    "# Analyze one file\n",
    "\n",
    "This function returns a `1 x n` DataFrame of all relevant data for a single file, which can be appended to a larger DataFrame for multi-file analysis."
   ]
  },
  {
   "cell_type": "code",
   "execution_count": null,
   "metadata": {},
   "outputs": [],
   "source": [
    "def analyze_one(path):\n",
    "    tree = et.parse(path)\n",
    "    root = tree.getroot()\n",
    "    #Converting from xml to dictionary\n",
    "    xmldict = XmlDictConfig(root)\n",
    "\n",
    "    #These are the parent keys of the dictionary\n",
    "    #xmldict.keys()\n",
    "\n",
    "    ##############Return Data\n",
    "    return_data = get_field(xmldict, ['ReturnData', 'IRS990'])\n",
    "    if return_data is None:\n",
    "        return None\n",
    "\n",
    "    #Related Org\n",
    "    related = get_field(return_data, ['RelatedOrganizationsAmt'], 0)\n",
    "\n",
    "    #GovernmentGrantsAmt\n",
    "    gov_grants = get_field(return_data, ['GovernmentGrantsAmt'], 0)\n",
    "\n",
    "    #FederatedCampaignsAmt\n",
    "    fed_camp = get_field(return_data, ['FederatedCampaignsAmt'], 0)\n",
    "\n",
    "    #MembershipDuesAmt\n",
    "    membership = get_field(return_data, ['MembershipDuesAmt'], 0)\n",
    "\n",
    "    #FundraisingAmt\n",
    "    fundraising = get_field(return_data, ['FundraisingAmt'], 0)\n",
    "\n",
    "    #AllOtherContributionsAmt\n",
    "    all_other = get_field(return_data, ['AllOtherContributionsAmt'], 0)\n",
    "\n",
    "    #TotalContributionsAmt\n",
    "    total_contri = get_field(return_data, ['TotalContributionsAmt'], 0)\n",
    "\n",
    "    #MissionDesc\n",
    "    descri = get_field(return_data, ['MissionDesc'], \"\")\n",
    "\n",
    "    #TypeOfOrganizationCorpInd\n",
    "    corp_ind = get_field(return_data, ['TypeOfOrganizationCorpInd'], \"NA\")\n",
    "\n",
    "    \n",
    "    ##############Header Information \n",
    "    filer_data = get_field(xmldict, ['ReturnHeader', 'Filer'], {})\n",
    "    ein = get_field(filer_data, ['EIN'])\n",
    "    business_name = get_field(filer_data, ['BusinessName', 'BusinessNameLine1Txt'])\n",
    "    city = get_field(filer_data, ['USAddress', 'CityNm'])\n",
    "    state = get_field(filer_data, ['USAddress', 'StateAbbreviationCd'])\n",
    "    filer_list = [[ein, business_name, city, state]]\n",
    "    filer_df = pd.DataFrame(filer_list, columns = ['EIN', 'BusinessName', 'City', 'State']) \n",
    "\n",
    "    contribution_list = [[related, gov_grants,fed_camp,membership, all_other, total_contri, descri, corp_ind]]\n",
    "    contribution_df = pd.DataFrame(contribution_list, columns = ['RelatedOrganizationsAmt','GovernmentGrantsAmt','FederatedCampaignsAmt','MembershipDuesAmt',\n",
    "                                                                 'AllOtherContributionsAmt','TotalContributionsAmt','MissionDesc','TypeOfOrganizationCorpInd'])\n",
    "\n",
    "    #Concatenating header information and contributions\n",
    "    return pd.concat([filer_df, contribution_df], axis=1, ignore_index=False)\n",
    "    "
   ]
  },
  {
   "cell_type": "markdown",
   "metadata": {},
   "source": [
    "# Example\n"
   ]
  },
  {
   "cell_type": "code",
   "execution_count": null,
   "metadata": {},
   "outputs": [],
   "source": [
    "df = pd.DataFrame([])\n",
    "\n",
    "one_row = analyze_one('data/201602159349301240_public.xml')\n",
    "df = df.append(one_row) \n",
    "df"
   ]
  },
  {
   "cell_type": "markdown",
   "metadata": {},
   "source": [
    "# Function to get a list of files in the 990_2017 directory to loop over"
   ]
  },
  {
   "cell_type": "code",
   "execution_count": null,
   "metadata": {},
   "outputs": [],
   "source": [
    "'''\n",
    "    For the given path, get the List of all files in the directory tree \n",
    "'''\n",
    "def getListOfFiles(dirName):\n",
    "    # create a list of file and sub directories \n",
    "    # names in the given directory \n",
    "    listOfFile = os.listdir(dirName)\n",
    "    allFiles = list()\n",
    "    # Iterate over all the entries\n",
    "    for entry in listOfFile:\n",
    "        # Create full path\n",
    "        fullPath = os.path.join(dirName, entry)\n",
    "        # If entry is a directory then get the list of files in this directory \n",
    "        if os.path.isdir(fullPath):\n",
    "            allFiles = allFiles + getListOfFiles(fullPath)\n",
    "        else:\n",
    "            allFiles.append(fullPath)\n",
    "                \n",
    "    return allFiles"
   ]
  },
  {
   "cell_type": "markdown",
   "metadata": {},
   "source": [
    "# Use a for loop to create the dataframe with selected field\n",
    "* Some fields are blank, so you have to create an if else in order to fill it in "
   ]
  },
  {
   "cell_type": "code",
   "execution_count": null,
   "metadata": {},
   "outputs": [],
   "source": [
    "dirName = 'data/IRS990_2017';\n",
    "files = getListOfFiles(dirName)\n",
    "len(files)"
   ]
  },
  {
   "cell_type": "code",
   "execution_count": null,
   "metadata": {
    "scrolled": true
   },
   "outputs": [],
   "source": [
    "df = pd.concat([one_row for name in tqdm(files[:10000]) if (one_row := analyze_one(name)) is not None])\n",
    "df"
   ]
  },
  {
   "cell_type": "code",
   "execution_count": null,
   "metadata": {},
   "outputs": [],
   "source": [
    "df.to_csv(\"data/just_contributions.csv\")"
   ]
  }
 ],
 "metadata": {
  "kernelspec": {
   "display_name": "Python 3",
   "language": "python",
   "name": "python3"
  },
  "language_info": {
   "codemirror_mode": {
    "name": "ipython",
    "version": 3
   },
   "file_extension": ".py",
   "mimetype": "text/x-python",
   "name": "python",
   "nbconvert_exporter": "python",
   "pygments_lexer": "ipython3",
   "version": "3.8.2"
  }
 },
 "nbformat": 4,
 "nbformat_minor": 4
}
