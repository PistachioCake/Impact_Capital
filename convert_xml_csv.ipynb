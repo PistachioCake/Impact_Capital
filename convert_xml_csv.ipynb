{
 "cells": [
  {
   "cell_type": "markdown",
   "metadata": {},
   "source": [
    "# Converting XML files to CSV "
   ]
  },
  {
   "cell_type": "code",
   "execution_count": 1,
   "metadata": {},
   "outputs": [],
   "source": [
    "import pandas as pd\n",
    "from xml.etree import cElementTree as ElementTree\n",
    "import xml.etree.ElementTree as et\n",
    "from tqdm import tqdm\n",
    "import os"
   ]
  },
  {
   "cell_type": "code",
   "execution_count": 2,
   "metadata": {},
   "outputs": [
    {
     "name": "stdout",
     "output_type": "stream",
     "text": [
      "3.8.1\n"
     ]
    }
   ],
   "source": [
    "from platform import python_version\n",
    "\n",
    "print(python_version())"
   ]
  },
  {
   "cell_type": "markdown",
   "metadata": {},
   "source": [
    "# Use IRS 2017 index https://s3.amazonaws.com/irs-form-990/index_2017.csv to subset data"
   ]
  },
  {
   "cell_type": "code",
   "execution_count": null,
   "metadata": {},
   "outputs": [],
   "source": [
    "#990 2017 index from the IRS\n",
    "index = pd.read_csv('data/index_2017.csv')\n",
    "\n",
    "#Index cleaning\n",
    "index['filename'] = index['OBJECT_ID'].astype(str) + '_public.xml'\n",
    "print(index.info())\n",
    "index"
   ]
  },
  {
   "cell_type": "code",
   "execution_count": null,
   "metadata": {},
   "outputs": [],
   "source": [
    "#Save just a list of the file names \n",
    "filenames = index[['filename']]\n",
    "\n",
    "#for some reason when I try to save it as a .txt file it changes some digits to zero! So what I did was save it as a csv, copy and paste the column into notepad and save\n",
    "filenames.to_csv(r'data/filenames_990_2017.csv', header=None, index=None, sep=' ', mode='a')\n",
    "\n",
    "#At this point I run the batch file to move all of the files to a 2017 only file. \n"
   ]
  },
  {
   "cell_type": "markdown",
   "metadata": {},
   "source": [
    "# Here is the batch file I created to move 2017 files to its own folder, next time try without 'type"
   ]
  },
  {
   "cell_type": "raw",
   "metadata": {},
   "source": [
    "set Source=C:\\Users\\tenis\\OneDrive\\Desktop\\Data_Projects\\Impact_Capital\\data\\IRS990_2017_2016\n",
    "set Target=C:\\Users\\tenis\\OneDrive\\Desktop\\Data_Projects\\Impact_Capital\\data\\IRS990_2017\n",
    "set FileList=C:\\Users\\tenis\\OneDrive\\Desktop\\Data_Projects\\Impact_Capital\\data\\filenames_990_2017.txt\n",
    "echo.\n",
    "\n",
    "if not exist \"%Source%\" echo Source folder \"%Source%\" not found & goto Exit\n",
    "if not exist \"%FileList%\" echo File list \"%FileList%\" not found & goto Exit \n",
    "if not exist \"%Target%\" md \"%Target%\"\n",
    "\n",
    "for /F \"delims=\" %%a in ('type \"%FileList%\"') do copy \"%Source%\\%%a\" \"%Target%\"\n",
    "\n",
    ":Exit\n",
    "echo.\n",
    "echo press the Space Bar to close this window.\n",
    "pause > nul"
   ]
  },
  {
   "cell_type": "markdown",
   "metadata": {},
   "source": [
    "# Fields to pull from IRS 990\n",
    "\n"
   ]
  },
  {
   "cell_type": "markdown",
   "metadata": {},
   "source": [
    "# Function to convert XML files to Python Dictionaries "
   ]
  },
  {
   "cell_type": "code",
   "execution_count": 3,
   "metadata": {},
   "outputs": [],
   "source": [
    "class XmlListConfig(list):\n",
    "    def __init__(self, aList):\n",
    "        for element in aList:\n",
    "            if element:\n",
    "                # treat like dict\n",
    "                if len(element) == 1 or element[0].tag != element[1].tag:\n",
    "                    self.append(XmlDictConfig(element))\n",
    "                # treat like list\n",
    "                elif element[0].tag == element[1].tag:\n",
    "                    self.append(XmlListConfig(element))\n",
    "            elif element.text:\n",
    "                text = element.text.strip()\n",
    "                if text:\n",
    "                    self.append(text)\n",
    "\n",
    "\n",
    "class XmlDictConfig(dict):\n",
    "    '''\n",
    "    Example usage:\n",
    "\n",
    "    >>> tree = ElementTree.parse('your_file.xml')\n",
    "    >>> root = tree.getroot()\n",
    "    >>> xmldict = XmlDictConfig(root)\n",
    "\n",
    "    Or, if you want to use an XML string:\n",
    "\n",
    "    >>> root = ElementTree.XML(xml_string)\n",
    "    >>> xmldict = XmlDictConfig(root)\n",
    "\n",
    "    And then use xmldict for what it is... a dict.\n",
    "    '''\n",
    "    def __init__(self, parent_element):\n",
    "        if parent_element.items():\n",
    "            self.update(dict(parent_element.items()))\n",
    "        for element in parent_element:\n",
    "            if element:\n",
    "                # treat like dict - we assume that if the first two tags\n",
    "                # in a series are different, then they are all different.\n",
    "                if len(element) == 1 or element[0].tag != element[1].tag:\n",
    "                    aDict = XmlDictConfig(element)\n",
    "                # treat like list - we assume that if the first two tags\n",
    "                # in a series are the same, then the rest are the same.\n",
    "                else:\n",
    "                    # here, we put the list in dictionary; the key is the\n",
    "                    # tag name the list elements all share in common, and\n",
    "                    # the value is the list itself \n",
    "                    aDict = {element[0].tag: XmlListConfig(element)}\n",
    "                # if the tag has attributes, add those to the dict\n",
    "                if element.items():\n",
    "                    aDict.update(dict(element.items()))\n",
    "                self.update({element.tag: aDict})\n",
    "            # this assumes that if you've got an attribute in a tag,\n",
    "            # you won't be having any text. This may or may not be a \n",
    "            # good idea -- time will tell. It works for the way we are\n",
    "            # currently doing XML configuration files...\n",
    "            elif element.items():\n",
    "                self.update({element.tag: dict(element.items())})\n",
    "            # finally, if there are no child tags and no attributes, extract\n",
    "            # the text\n",
    "            else:\n",
    "                self.update({element.tag: element.text})\n",
    "\n",
    "def get_field(xmldict, path=None, default=None):\n",
    "    if path is None: return xmldict\n",
    "    try:\n",
    "        for p in path:\n",
    "            # Ugly namespaces are ugly, let's deal with them here\n",
    "            xmldict = xmldict['{http://www.irs.gov/efile}' + p]\n",
    "        return xmldict\n",
    "    except KeyError:\n",
    "        # If this key does not exist in the dictionary, \n",
    "        return default\n",
    "        # Note: it may be faster to check ```if p not in dict``` rather\n",
    "        # than set up this try/except block. I think it depends on how\n",
    "        # often this fails - the more it fails, the worse the try/except does."
   ]
  },
  {
   "cell_type": "markdown",
   "metadata": {},
   "source": [
    "# Analyze one file\n",
    "\n",
    "This function returns a `1 x n` DataFrame of all relevant data for a single file, which can be appended to a larger DataFrame for multi-file analysis."
   ]
  },
  {
   "cell_type": "code",
   "execution_count": 4,
   "metadata": {},
   "outputs": [],
   "source": [
    "def analyze_one(path):\n",
    "    tree = et.parse(path)\n",
    "    root = tree.getroot()\n",
    "    #Converting from xml to dictionary\n",
    "    xmldict = XmlDictConfig(root)\n",
    "\n",
    "    \n",
    "    ##############Header Information \n",
    "    #Date Information\n",
    "    tax_period_begin = get_field(xmldict, ['ReturnHeader','TaxPeriodBeginDt'])\n",
    "    \n",
    "    #Filer Information\n",
    "    filer_data = get_field(xmldict, ['ReturnHeader', 'Filer'], {})\n",
    "    ein = get_field(filer_data, ['EIN'])\n",
    "    business_name = get_field(filer_data, ['BusinessName', 'BusinessNameLine1Txt'])\n",
    "    city = get_field(filer_data, ['USAddress', 'CityNm'])\n",
    "    state = get_field(filer_data, ['USAddress', 'StateAbbreviationCd'])\n",
    "    zipc = get_field(filer_data, ['USAddress', 'ZIPCd'])\n",
    "    filer_list = [[tax_period_begin, ein, business_name, city, state, zipc]]\n",
    "    filer_df = pd.DataFrame(filer_list, columns = ['TaxPeriodBeginDt','EIN', 'BusinessName', 'City', 'State', 'ZIPCd']) \n",
    "    \n",
    "    \n",
    "    ##############Return Data\n",
    "    return_data = get_field(xmldict, ['ReturnData', 'IRS990'])\n",
    "    if return_data is None:\n",
    "        return None\n",
    "    \n",
    "    #Formation Year\n",
    "    formation_year = get_field(return_data, ['FormationYr'], \"NA\")\n",
    "    \n",
    "    #State of legal domicile \n",
    "    legal_dom = get_field(return_data, ['LegalDomicileStateCd'], \"NA\")\n",
    "    \n",
    "    #Related Org\n",
    "    related = get_field(return_data, ['RelatedOrganizationsAmt'], 0)\n",
    "\n",
    "    #GovernmentGrantsAmt\n",
    "    gov_grants = get_field(return_data, ['GovernmentGrantsAmt'], 0)\n",
    "\n",
    "    #FederatedCampaignsAmt\n",
    "    fed_camp = get_field(return_data, ['FederatedCampaignsAmt'], 0)\n",
    "\n",
    "    #MembershipDuesAmt\n",
    "    membership = get_field(return_data, ['MembershipDuesAmt'], 0)\n",
    "\n",
    "    #FundraisingAmt\n",
    "    fundraising = get_field(return_data, ['FundraisingAmt'], 0)\n",
    "    \n",
    "    #NoncashContributionsAmt\n",
    "    NoncashContributionsAmt = get_field(return_data, ['NoncashContributionsAmt'], 0)\n",
    "    \n",
    "    #AllOtherContributionsAmt\n",
    "    all_other = get_field(return_data, ['AllOtherContributionsAmt'], 0)\n",
    "\n",
    "    #TotalContributionsAmt\n",
    "    total_contri = get_field(return_data, ['TotalContributionsAmt'], 0)\n",
    "    \n",
    "    #TotalProgramServiceRevenueAmt\n",
    "    program_service_rev = get_field(return_data, ['TotalProgramServiceRevenueAmt'], 0)\n",
    "    \n",
    "    #CYInvestmentIncomeAmt\n",
    "    CY_investment_income = get_field(return_data, ['CYInvestmentIncomeAmt'], 0)\n",
    "    \n",
    "    #CYOtherRevenueAmt\n",
    "    CYOtherRevenueAmt = get_field(return_data, ['CYOtherRevenueAmt'], 0)\n",
    "    \n",
    "    #CYTotalRevenueAmt\n",
    "    CYTotalRevenueAmt = get_field(return_data, ['CYTotalRevenueAmt'], 0)\n",
    "    \n",
    "    #CYTotalExpensesAmt\n",
    "    CYTotalExpensesAmt = get_field(return_data, ['CYTotalExpensesAmt'], 0)\n",
    "    \n",
    "    #CYRevenuesLessExpensesAmt\n",
    "    CYRevenuesLessExpensesAmt = get_field(return_data, ['CYRevenuesLessExpensesAmt'], 0)\n",
    "    \n",
    "    #TotalAssetsEOYAmt\n",
    "    TotalAssetsEOYAmt = get_field(return_data, ['TotalAssetsEOYAmt'], 0)\n",
    "    \n",
    "    #TotalLiabilitiesEOYAmt\n",
    "    TotalLiabilitiesEOYAmt = get_field(return_data, ['TotalLiabilitiesEOYAmt'], 0)\n",
    "    \n",
    "    #NetAssetsOrFundBalancesEOYAmt\n",
    "    NetAssetsOrFundBalancesEOYAmt = get_field(return_data, ['NetAssetsOrFundBalancesEOYAmt'], 0)\n",
    "\n",
    "    #MissionDesc\n",
    "    descri = get_field(return_data, ['MissionDesc'], \"\")\n",
    "\n",
    "    #TypeOfOrganizationCorpInd\n",
    "    corp_ind = get_field(return_data, ['TypeOfOrganizationCorpInd'], \"NA\")\n",
    "    \n",
    "    #SchoolOperatingInd\n",
    "    SchoolOperatingInd = get_field(return_data, ['SchoolOperatingInd'], \"NA\")\n",
    "    \n",
    "    #OperateHospitalInd\n",
    "    OperateHospitalInd = get_field(return_data, ['OperateHospitalInd'], \"NA\") #Sometimes has {'referenceDocumentId': 'IRS990ScheduleH'} for true \n",
    "    \n",
    "    #AddressChangeInd\n",
    "    AddressChangeInd = get_field(return_data, ['AddressChangeInd'], \"\")\n",
    "    \n",
    "    #InitialReturnInd\n",
    "    InitialReturnInd = get_field(return_data, ['InitialReturnInd'], \"\")\n",
    "    \n",
    "    #AmendedReturnInd\n",
    "    AmendedReturnInd = get_field(return_data, ['AmendedReturnInd'], \"\")\n",
    "    \n",
    "    #TerminateOperationsInd\n",
    "    TerminateOperationsInd = get_field(return_data, ['TerminateOperationsInd'], \"\")\n",
    "   \n",
    "\n",
    "\n",
    "    return_list = [[formation_year, legal_dom, related, gov_grants,fed_camp,membership,fundraising, NoncashContributionsAmt,all_other, total_contri,\n",
    "                          program_service_rev, CY_investment_income,CYOtherRevenueAmt, CYTotalRevenueAmt,CYTotalExpensesAmt,CYRevenuesLessExpensesAmt,\n",
    "                          TotalAssetsEOYAmt,TotalLiabilitiesEOYAmt,NetAssetsOrFundBalancesEOYAmt, descri, corp_ind, SchoolOperatingInd, OperateHospitalInd,\n",
    "                         AddressChangeInd, InitialReturnInd,AmendedReturnInd,TerminateOperationsInd]]\n",
    "    \n",
    "    return_df = pd.DataFrame(return_list, columns = ['FormationYr', 'LegalDomicileStateCd','RelatedOrganizationsAmt','GovernmentGrantsAmt',\n",
    "                                                                 'FederatedCampaignsAmt','MembershipDuesAmt','FundraisingAmt','NoncashContributionsAmt',\n",
    "                                                                 'AllOtherContributionsAmt','TotalContributionsAmt','TotalProgramServiceRevenueAmt','CYInvestmentIncomeAmt',\n",
    "                                                                 'CYOtherRevenueAmt','CYTotalRevenueAmt','CYTotalExpensesAmt','CYRevenuesLessExpensesAmt','TotalAssetsEOYAmt',\n",
    "                                                                 'TotalLiabilitiesEOYAmt','NetAssetsOrFundBalancesEOYAmt','MissionDesc','TypeOfOrganizationCorpInd', 'SchoolOperatingInd',\n",
    "                                                                'OperateHospitalInd','AddressChangeInd', 'InitialReturnInd','AmendedReturnInd','TerminateOperationsInd'])\n",
    "\n",
    "    #Concatenating header information and contributions\n",
    "    return pd.concat([filer_df, return_df], axis=1, ignore_index=False)\n",
    "    "
   ]
  },
  {
   "cell_type": "markdown",
   "metadata": {},
   "source": [
    "# Example\n"
   ]
  },
  {
   "cell_type": "code",
   "execution_count": 5,
   "metadata": {},
   "outputs": [
    {
     "data": {
      "text/html": [
       "<div>\n",
       "<style scoped>\n",
       "    .dataframe tbody tr th:only-of-type {\n",
       "        vertical-align: middle;\n",
       "    }\n",
       "\n",
       "    .dataframe tbody tr th {\n",
       "        vertical-align: top;\n",
       "    }\n",
       "\n",
       "    .dataframe thead th {\n",
       "        text-align: right;\n",
       "    }\n",
       "</style>\n",
       "<table border=\"1\" class=\"dataframe\">\n",
       "  <thead>\n",
       "    <tr style=\"text-align: right;\">\n",
       "      <th></th>\n",
       "      <th>TaxPeriodBeginDt</th>\n",
       "      <th>EIN</th>\n",
       "      <th>BusinessName</th>\n",
       "      <th>City</th>\n",
       "      <th>State</th>\n",
       "      <th>ZIPCd</th>\n",
       "      <th>FormationYr</th>\n",
       "      <th>LegalDomicileStateCd</th>\n",
       "      <th>RelatedOrganizationsAmt</th>\n",
       "      <th>GovernmentGrantsAmt</th>\n",
       "      <th>...</th>\n",
       "      <th>TotalLiabilitiesEOYAmt</th>\n",
       "      <th>NetAssetsOrFundBalancesEOYAmt</th>\n",
       "      <th>MissionDesc</th>\n",
       "      <th>TypeOfOrganizationCorpInd</th>\n",
       "      <th>SchoolOperatingInd</th>\n",
       "      <th>OperateHospitalInd</th>\n",
       "      <th>AddressChangeInd</th>\n",
       "      <th>InitialReturnInd</th>\n",
       "      <th>AmendedReturnInd</th>\n",
       "      <th>TerminateOperationsInd</th>\n",
       "    </tr>\n",
       "  </thead>\n",
       "  <tbody>\n",
       "    <tr>\n",
       "      <th>0</th>\n",
       "      <td>2014-07-01</td>\n",
       "      <td>421264647</td>\n",
       "      <td>Covenant Medical Center Inc</td>\n",
       "      <td>Waterloo</td>\n",
       "      <td>IA</td>\n",
       "      <td>507025499</td>\n",
       "      <td>1985</td>\n",
       "      <td>IA</td>\n",
       "      <td>2036412</td>\n",
       "      <td>90353</td>\n",
       "      <td>...</td>\n",
       "      <td>26524129</td>\n",
       "      <td>230001287</td>\n",
       "      <td>AS A MEMBER OF WHEATON FRANCISCAN HEALTHCARE, ...</td>\n",
       "      <td>X</td>\n",
       "      <td>false</td>\n",
       "      <td>{'referenceDocumentId': 'IRS990ScheduleH'}</td>\n",
       "      <td></td>\n",
       "      <td></td>\n",
       "      <td></td>\n",
       "      <td>false</td>\n",
       "    </tr>\n",
       "  </tbody>\n",
       "</table>\n",
       "<p>1 rows × 33 columns</p>\n",
       "</div>"
      ],
      "text/plain": [
       "  TaxPeriodBeginDt        EIN                 BusinessName      City State  \\\n",
       "0       2014-07-01  421264647  Covenant Medical Center Inc  Waterloo    IA   \n",
       "\n",
       "       ZIPCd FormationYr LegalDomicileStateCd RelatedOrganizationsAmt  \\\n",
       "0  507025499        1985                   IA                 2036412   \n",
       "\n",
       "  GovernmentGrantsAmt  ... TotalLiabilitiesEOYAmt  \\\n",
       "0               90353  ...               26524129   \n",
       "\n",
       "   NetAssetsOrFundBalancesEOYAmt  \\\n",
       "0                      230001287   \n",
       "\n",
       "                                         MissionDesc  \\\n",
       "0  AS A MEMBER OF WHEATON FRANCISCAN HEALTHCARE, ...   \n",
       "\n",
       "   TypeOfOrganizationCorpInd SchoolOperatingInd  \\\n",
       "0                          X              false   \n",
       "\n",
       "                           OperateHospitalInd AddressChangeInd  \\\n",
       "0  {'referenceDocumentId': 'IRS990ScheduleH'}                    \n",
       "\n",
       "  InitialReturnInd AmendedReturnInd TerminateOperationsInd  \n",
       "0                                                    false  \n",
       "\n",
       "[1 rows x 33 columns]"
      ]
     },
     "execution_count": 5,
     "metadata": {},
     "output_type": "execute_result"
    }
   ],
   "source": [
    "df = pd.DataFrame([])\n",
    "\n",
    "one_row = analyze_one('data/IRS990_2017/201601349349307825_public.xml')\n",
    "df = df.append(one_row) \n",
    "df"
   ]
  },
  {
   "cell_type": "markdown",
   "metadata": {},
   "source": [
    "# Function to get a list of files in the 990_2017 directory to loop over"
   ]
  },
  {
   "cell_type": "code",
   "execution_count": 6,
   "metadata": {},
   "outputs": [],
   "source": [
    "'''\n",
    "    For the given path, get the List of all files in the directory tree \n",
    "'''\n",
    "def getListOfFiles(dirName):\n",
    "    # create a list of file and sub directories \n",
    "    # names in the given directory \n",
    "    listOfFile = os.listdir(dirName)\n",
    "    allFiles = list()\n",
    "    # Iterate over all the entries\n",
    "    for entry in listOfFile:\n",
    "        # Create full path\n",
    "        fullPath = os.path.join(dirName, entry)\n",
    "        # If entry is a directory then get the list of files in this directory \n",
    "        if os.path.isdir(fullPath):\n",
    "            allFiles = allFiles + getListOfFiles(fullPath)\n",
    "        else:\n",
    "            allFiles.append(fullPath)\n",
    "                \n",
    "    return allFiles"
   ]
  },
  {
   "cell_type": "markdown",
   "metadata": {},
   "source": [
    "# Use a for loop to create the dataframe with selected field\n",
    "* Some fields are blank, so you have to create an if else in order to fill it in "
   ]
  },
  {
   "cell_type": "code",
   "execution_count": 7,
   "metadata": {},
   "outputs": [
    {
     "data": {
      "text/plain": [
       "489013"
      ]
     },
     "execution_count": 7,
     "metadata": {},
     "output_type": "execute_result"
    }
   ],
   "source": [
    "dirName = 'data/IRS990_2017';\n",
    "files = getListOfFiles(dirName)\n",
    "len(files)"
   ]
  },
  {
   "cell_type": "code",
   "execution_count": null,
   "metadata": {
    "scrolled": true
   },
   "outputs": [
    {
     "name": "stderr",
     "output_type": "stream",
     "text": [
      " 33%|███▎      | 162961/489013 [43:44<1:06:40, 81.49it/s] "
     ]
    }
   ],
   "source": [
    "df = pd.concat([one_row for name in tqdm(files) if (one_row := analyze_one(name)) is not None])\n",
    "df"
   ]
  },
  {
   "cell_type": "code",
   "execution_count": null,
   "metadata": {},
   "outputs": [],
   "source": [
    "df.to_csv(\"data/return_2017.csv\")"
   ]
  },
  {
   "cell_type": "code",
   "execution_count": 41,
   "metadata": {},
   "outputs": [
    {
     "name": "stdout",
     "output_type": "stream",
     "text": [
      "3.7.6\n"
     ]
    }
   ],
   "source": []
  },
  {
   "cell_type": "code",
   "execution_count": null,
   "metadata": {},
   "outputs": [],
   "source": []
  }
 ],
 "metadata": {
  "kernelspec": {
   "display_name": "Python 3",
   "language": "python",
   "name": "python3"
  },
  "language_info": {
   "codemirror_mode": {
    "name": "ipython",
    "version": 3
   },
   "file_extension": ".py",
   "mimetype": "text/x-python",
   "name": "python",
   "nbconvert_exporter": "python",
   "pygments_lexer": "ipython3",
   "version": "3.8.1"
  }
 },
 "nbformat": 4,
 "nbformat_minor": 4
}
